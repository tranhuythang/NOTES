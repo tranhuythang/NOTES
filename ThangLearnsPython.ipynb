{
 "cells": [
  {
   "cell_type": "markdown",
   "metadata": {},
   "source": [
    "# ndarray (n-dimenstional array)"
   ]
  },
  {
   "cell_type": "markdown",
   "metadata": {},
   "source": [
    "2 most important use of NUMPY n-dim arrays:\n",
    "- converting data to multi-dimensional array. This is why functions of have axis parameter\n",
    "- vectorized functions so that one doesn't need to have loop for each element    "
   ]
  },
  {
   "cell_type": "markdown",
   "metadata": {},
   "source": [
    "An array of multidimension 3x4x2x5 has 3 rows, each row has 4 columns, each column has 2 list, each list has 5 elements.\n",
    "So a row doesn't contain elements, it contains columns.\n",
    "A column doesn't contain elements, it contain lists.\n",
    "Only list contain elements."
   ]
  },
  {
   "cell_type": "markdown",
   "metadata": {},
   "source": [
    "# Slicing"
   ]
  },
  {
   "cell_type": "markdown",
   "metadata": {},
   "source": [
    "## 1D array\n",
    "Use list of specific index: a[[1, 4, 5]] = {a[1], a[4], a[5]}\n",
    "Use slice notation: a[1::3]\n",
    "## nd array\n",
    "The dimensions are separated by coma a[1:5,:,[1,3,4]]"
   ]
  },
  {
   "cell_type": "markdown",
   "metadata": {},
   "source": [
    "# MISC"
   ]
  },
  {
   "cell_type": "markdown",
   "metadata": {},
   "source": [
    " Both array.reshape(d1, d2, d3) or reshape(array, (d1, d2, d3)) return an array"
   ]
  },
  {
   "cell_type": "code",
   "execution_count": null,
   "metadata": {},
   "outputs": [],
   "source": []
  },
  {
   "cell_type": "code",
   "execution_count": null,
   "metadata": {},
   "outputs": [],
   "source": []
  },
  {
   "cell_type": "code",
   "execution_count": null,
   "metadata": {},
   "outputs": [],
   "source": []
  }
 ],
 "metadata": {
  "kernelspec": {
   "display_name": "Python 3",
   "language": "python",
   "name": "python3"
  },
  "language_info": {
   "codemirror_mode": {
    "name": "ipython",
    "version": 3
   },
   "file_extension": ".py",
   "mimetype": "text/x-python",
   "name": "python",
   "nbconvert_exporter": "python",
   "pygments_lexer": "ipython3",
   "version": "3.8.3"
  }
 },
 "nbformat": 4,
 "nbformat_minor": 4
}
